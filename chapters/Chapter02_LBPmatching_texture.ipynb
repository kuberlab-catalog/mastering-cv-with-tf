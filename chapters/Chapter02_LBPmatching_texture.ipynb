{
 "cells": [
  {
   "cell_type": "code",
   "execution_count": 30,
   "metadata": {},
   "outputs": [
    {
     "name": "stdout",
     "output_type": "stream",
     "text": [
      "Plain test 3 matched with plain 3 trained image\n"
     ]
    },
    {
     "data": {
      "image/png": "[encoded data removed]",
      "text/plain": [
       "<Figure size 432x288 with 4 Axes>"
      ]
     },
     "metadata": {
      "needs_background": "light"
     },
     "output_type": "display_data"
    }
   ],
   "source": [
    "from skimage.transform import rotate\n",
    "from skimage.feature import local_binary_pattern\n",
    "from skimage import data\n",
    "from skimage.color import label2rgb\n",
    "import numpy as np\n",
    "import matplotlib.pyplot as plt\n",
    "%matplotlib inline\n",
    "import cv2\n",
    "import os\n",
    "from PIL import Image\n",
    "from scipy import ndimage\n",
    "from scipy import spatial\n",
    "import tensorflow as tf\n",
    "import imagehash\n",
    "from scipy.stats import wasserstein_distance\n",
    "from scipy.spatial import distance as dist\n",
    "\n",
    "# settings for LBP\n",
    "radius = 5\n",
    "num_pts = 25\n",
    "\n",
    "match=0\n",
    "# Get four training images of texture and 3 training images of plain\n",
    "pattern1trainimg = Image.open('/Users/krishnendukar/bookchapter2/patternimg/pattern1train.jpeg')\n",
    "pattern2trainimg = Image.open('/Users/krishnendukar/bookchapter2/patternimg/pattern2train.jpeg')\n",
    "pattern3trainimg = Image.open('/Users/krishnendukar/bookchapter2/patternimg/pattern3train.jpeg')\n",
    "pattern4trainimg = Image.open('/Users/krishnendukar/bookchapter2/patternimg/pattern4train.jpeg')\n",
    "pattern5trainimg = Image.open('/Users/krishnendukar/bookchapter2/patternimg/pattern5train.jpeg')\n",
    "pattern6trainimg = Image.open('/Users/krishnendukar/bookchapter2/patternimg/pattern6train.jpeg')\n",
    "pattern7trainimg = Image.open('/Users/krishnendukar/bookchapter2/patternimg/pattern7train.jpeg')\n",
    "plain1trainimg = Image.open('/Users/krishnendukar/bookchapter2/patternimg/plain1train.jpeg')\n",
    "plain2trainimg = Image.open('/Users/krishnendukar/bookchapter2/patternimg/plain2train.jpeg')\n",
    "plain3trainimg = Image.open('/Users/krishnendukar/bookchapter2/patternimg/plain3train.jpeg')\n",
    "plain4trainimg = Image.open('/Users/krishnendukar/bookchapter2/patternimg/plain4train.jpeg')\n",
    "\n",
    "pattern1trainarr = np.asarray(pattern1trainimg)\n",
    "pattern2trainarr = np.asarray(pattern2trainimg)\n",
    "pattern3trainarr = np.asarray(pattern3trainimg)\n",
    "pattern4trainarr = np.asarray(pattern4trainimg)\n",
    "pattern5trainarr = np.asarray(pattern5trainimg)\n",
    "pattern6trainarr = np.asarray(pattern6trainimg)\n",
    "pattern7trainarr = np.asarray(pattern7trainimg)\n",
    "plain1trainarr = np.asarray(plain1trainimg)\n",
    "plain2trainarr = np.asarray(plain2trainimg)\n",
    "plain3trainarr = np.asarray(plain3trainimg)\n",
    "plain4trainarr = np.asarray(plain3trainimg)\n",
    "\n",
    "pattern1traingray = cv2.cvtColor(pattern1trainarr, cv2.COLOR_BGR2GRAY)\n",
    "pattern2traingray = cv2.cvtColor(pattern2trainarr, cv2.COLOR_BGR2GRAY)\n",
    "pattern3traingray = cv2.cvtColor(pattern3trainarr, cv2.COLOR_BGR2GRAY)\n",
    "pattern4traingray = cv2.cvtColor(pattern4trainarr, cv2.COLOR_BGR2GRAY)\n",
    "pattern5traingray = cv2.cvtColor(pattern5trainarr, cv2.COLOR_BGR2GRAY)\n",
    "pattern6traingray = cv2.cvtColor(pattern6trainarr, cv2.COLOR_BGR2GRAY)\n",
    "pattern7traingray = cv2.cvtColor(pattern7trainarr, cv2.COLOR_BGR2GRAY)\n",
    "plain1traingray = cv2.cvtColor(plain1trainarr, cv2.COLOR_BGR2GRAY)\n",
    "plain2traingray = cv2.cvtColor(plain2trainarr, cv2.COLOR_BGR2GRAY)\n",
    "plain3traingray = cv2.cvtColor(plain3trainarr, cv2.COLOR_BGR2GRAY)\n",
    "plain4traingray = cv2.cvtColor(plain4trainarr, cv2.COLOR_BGR2GRAY)\n",
    "\n",
    "# Get 4 test imagess of texture and 3 training image of plain\n",
    "pattern1testimg = Image.open('/Users/krishnendukar/bookchapter2/patternimg/pattern1test.jpeg')\n",
    "pattern2testimg = Image.open('/Users/krishnendukar/bookchapter2/patternimg/pattern2test.jpeg')\n",
    "pattern3testimg = Image.open('/Users/krishnendukar/bookchapter2/patternimg/pattern3test.jpeg')\n",
    "pattern4testimg = Image.open('/Users/krishnendukar/bookchapter2/patternimg/pattern4test.jpeg')\n",
    "plain1testimg = Image.open('/Users/krishnendukar/bookchapter2/patternimg/plain1test.jpeg')\n",
    "plain2testimg = Image.open('/Users/krishnendukar/bookchapter2/patternimg/plain2test.jpeg')\n",
    "plain3testimg = Image.open('/Users/krishnendukar/bookchapter2/patternimg/plain3test.jpeg')\n",
    "\n",
    "pattern1testarr = np.asarray(pattern1testimg)\n",
    "pattern2testarr = np.asarray(pattern2testimg)\n",
    "pattern3testarr = np.asarray(pattern3testimg)\n",
    "pattern4testarr = np.asarray(pattern4testimg)\n",
    "plain1testarr = np.asarray(plain1testimg)\n",
    "plain2testarr = np.asarray(plain2testimg)\n",
    "plain3testarr = np.asarray(plain3testimg)\n",
    "\n",
    "pattern1testgray = cv2.cvtColor(pattern1testarr, cv2.COLOR_BGR2GRAY)\n",
    "pattern2testgray = cv2.cvtColor(pattern2testarr, cv2.COLOR_BGR2GRAY)\n",
    "pattern3testgray = cv2.cvtColor(pattern3testarr, cv2.COLOR_BGR2GRAY)\n",
    "pattern4testgray = cv2.cvtColor(pattern4testarr, cv2.COLOR_BGR2GRAY)\n",
    "plain1testgray = cv2.cvtColor(plain1testarr, cv2.COLOR_BGR2GRAY)\n",
    "plain2testgray = cv2.cvtColor(plain2testarr, cv2.COLOR_BGR2GRAY)\n",
    "plain3testgray = cv2.cvtColor(plain3testarr, cv2.COLOR_BGR2GRAY)\n",
    "\n",
    "# Calculate the LBP features for all the seven training images\n",
    "pattern1train_lbp = local_binary_pattern(pattern1traingray, num_pts, radius, 'uniform')\n",
    "pattern2train_lbp = local_binary_pattern(pattern2traingray, num_pts, radius, 'uniform')\n",
    "pattern3train_lbp = local_binary_pattern(pattern3traingray, num_pts, radius, 'uniform')\n",
    "pattern4train_lbp = local_binary_pattern(pattern4traingray, num_pts, radius, 'uniform')\n",
    "pattern5train_lbp = local_binary_pattern(pattern5traingray, num_pts, radius, 'uniform')\n",
    "pattern6train_lbp = local_binary_pattern(pattern6traingray, num_pts, radius, 'uniform')\n",
    "pattern7train_lbp = local_binary_pattern(pattern7traingray, num_pts, radius, 'uniform')\n",
    "plain1train_lbp = local_binary_pattern(plain1traingray, num_pts, radius, 'uniform')\n",
    "plain2train_lbp = local_binary_pattern(plain2traingray, num_pts, radius, 'uniform')\n",
    "plain3train_lbp = local_binary_pattern(plain3traingray, num_pts, radius, 'uniform')\n",
    "plain4train_lbp = local_binary_pattern(plain4traingray, num_pts, radius, 'uniform')\n",
    "\n",
    "# calculate the LBP features for all the seven test images\n",
    "pattern1test_lbp = local_binary_pattern(pattern1testgray, num_pts, radius, 'uniform')\n",
    "pattern2test_lbp = local_binary_pattern(pattern2testgray, num_pts, radius, 'uniform')\n",
    "pattern3test_lbp = local_binary_pattern(pattern3testgray, num_pts, radius, 'uniform')\n",
    "pattern4test_lbp = local_binary_pattern(pattern4testgray, num_pts, radius, 'uniform')\n",
    "plain1test_lbp = local_binary_pattern(plain1testgray, num_pts, radius, 'uniform')\n",
    "plain2test_lbp = local_binary_pattern(plain2testgray, num_pts, radius, 'uniform')\n",
    "plain3test_lbp = local_binary_pattern(plain3testgray, num_pts, radius, 'uniform')\n",
    "\n",
    "\n",
    "imagestring = \"Plain test 3\"\n",
    "# We will pick any one image say facecolor1 im and try to find\n",
    "# its best match among the foundations\n",
    "# Create a list with LBP features of all seven images\n",
    "bins_num = int(plain3test_lbp.max() + 1)\n",
    "\n",
    "\n",
    "\n",
    "test_hist, _ = np.histogram(plain3test_lbp, bins=bins_num, range=(0, bins_num),density=None)\n",
    "\n",
    "lbp_features = [pattern1train_lbp, pattern2train_lbp, pattern3train_lbp, pattern4train_lbp, \n",
    "                pattern5train_lbp, pattern6train_lbp, pattern7train_lbp,\n",
    "                plain1train_lbp, plain2train_lbp, plain3train_lbp, plain4train_lbp]\n",
    "min_score = 10000 # Set a very large best score value initially\n",
    "idx = 0 # To keep track of the winner\n",
    "fig = plt.figure()\n",
    "\n",
    "ax1 = fig.add_subplot(221)\n",
    "ax1.set_xticklabels([])\n",
    "ax1.set_yticklabels([])\n",
    "plt.xticks([])\n",
    "plt.yticks([])\n",
    "ax1.set_title(imagestring,fontsize=15, fontweight = 'bold')\n",
    "plt.subplot(221), plt.imshow(plain3testimg)\n",
    "#plt.draw()\n",
    "ax2 = fig.add_subplot(223)\n",
    "ax2.set_xticklabels([])\n",
    "ax2.set_yticklabels([])\n",
    "plt.xticks([])\n",
    "plt.yticks([])\n",
    "# ax2.set_title('Foundation Color',fontsize=15, fontweight = 'bold')\n",
    "\n",
    "\n",
    "plt.subplot(222),plt.plot(test_hist)   \n",
    "plt.title('radius %i : n_points %i' %(radius,num_pts))\n",
    "mymet=0\n",
    "q = []\n",
    "for feature in lbp_features:\n",
    "    mymet=mymet+1\n",
    "    histogram, _ = np.histogram(feature, bins=bins_num, range=(0, bins_num),density=None)\n",
    "    p = np.asarray(test_hist)\n",
    "    q = np.asarray(histogram)\n",
    "    filter_idx = np.where(np.logical_and(p != 0, q != 0))\n",
    "\n",
    "    minima = np.minimum(test_hist,histogram)\n",
    "    intersection = np.true_divide(np.sum(minima),np.sum(histogram))\n",
    "    difidx = p-q\n",
    "    score = .5*(np.sum((p-q)**2/(p+q+1e-10)))\n",
    "    scorewas = wasserstein_distance(p,q)\n",
    "    scorechisq = .5*(np.sum((p-q)**2/(p+q+1e-10)))\n",
    "    scoresimple = np.sum((p-q)**2)\n",
    "    scoreseucl = dist.euclidean(p,q)\n",
    "    scoresman = dist.cityblock(p,q)\n",
    "  #  score = np.sum(difidx*difidx)\n",
    "#    print (\"%s mymet %d score %s screchi %s scorescipy %s intersection\" %(mymet, score, scorechisq, scoreseucl, intersection))\n",
    "    if score < min_score:\n",
    "        min_score = score\n",
    "        match = mymet-1\n",
    "\n",
    "#print (\"%s score %s min_score %s winner\" %(score, min_score,winner))\n",
    "   \n",
    "if match == 0:\n",
    "    print(\"%s matched with pattern 1 trained image\" %(imagestring))\n",
    "    plt.subplot(223),plt.imshow(pattern1trainimg)\n",
    "    ax2.set_title('Pattern 1 trained',fontsize=15, fontweight = 'bold')\n",
    "elif match == 1:\n",
    "    print(\"%s matched with pattern 2 trained image\" %(imagestring))\n",
    "    plt.subplot(223),plt.imshow(pattern2trainimg)\n",
    "    ax2.set_title('Pattern 2 trained',fontsize=15, fontweight = 'bold')\n",
    "elif match == 2:\n",
    "    print(\"%s matched with pattern 3 trained image\" %(imagestring))\n",
    "    plt.subplot(223),plt.imshow(pattern3trainimg)\n",
    "    ax2.set_title('Pattern 3 trained',fontsize=15, fontweight = 'bold')\n",
    "elif match == 3:\n",
    "    print(\"%s matched with pattern 4 trained image\" %(imagestring))\n",
    "    plt.subplot(223),plt.imshow(pattern4trainimg)\n",
    "    ax2.set_title('Pattern 4 trained',fontsize=15, fontweight = 'bold')\n",
    "elif match == 4:\n",
    "    print(\"%s matched with pattern 5 trained image\" %(imagestring))\n",
    "    plt.subplot(223),plt.imshow(pattern5trainimg)\n",
    "    ax2.set_title('Pattern 5 trained',fontsize=15, fontweight = 'bold')\n",
    "elif match == 5:\n",
    "    print(\"%s matched with pattern 6 trained image\" %(imagestring))\n",
    "    plt.subplot(223),plt.imshow(pattern6trainimg)\n",
    "    ax2.set_title('Pattern 6 trained',fontsize=15, fontweight = 'bold')    \n",
    "elif match == 6:\n",
    "    print(\"%s matched with pattern 7 trained image\" %(imagestring))\n",
    "    plt.subplot(223),plt.imshow(pattern7trainimg)\n",
    "    ax2.set_title('Pattern 7 trained',fontsize=15, fontweight = 'bold') \n",
    "elif match == 7:\n",
    "    print(\"%s matched with plain 1 trained image\" %(imagestring))\n",
    "    plt.subplot(223),plt.imshow(plain1trainimg) \n",
    "    ax2.set_title('Plain 1 trained',fontsize=15, fontweight = 'bold')\n",
    "elif match == 8:\n",
    "    print(\"%s matched with plain 2 trained image\" %(imagestring))\n",
    "    plt.subplot(223),plt.imshow(plain2trainimg) \n",
    "    ax2.set_title('Plain 2 trained',fontsize=15, fontweight = 'bold')\n",
    "elif match == 9:\n",
    "    print(\"%s matched with plain 3 trained image\" %(imagestring))\n",
    "    plt.subplot(223),plt.imshow(plain3trainimg)\n",
    "    ax2.set_title('Plain 3 trained',fontsize=15, fontweight = 'bold')\n",
    "elif match == 10:\n",
    "    print(\"%s matched with plain 4 trained image\" %(imagestring))\n",
    "    plt.subplot(223),plt.imshow(plain4trainimg)\n",
    "    ax2.set_title('Plain 4 trained',fontsize=15, fontweight = 'bold')\n",
    "    \n",
    "    \n",
    "    \n",
    "plt.subplot(224),plt.plot(histogram) \n",
    "plt.show()\n"
   ]
  },
  {
   "cell_type": "code",
   "execution_count": null,
   "metadata": {},
   "outputs": [],
   "source": [
    "minima = np.minimum"
   ]
  },
  {
   "cell_type": "code",
   "execution_count": 19,
   "metadata": {},
   "outputs": [],
   "source": [
    "(mfc1, sfc1) = cv2.meanStdDev(facecol1arr)\n",
    "statfc1 = np.concatenate([mfc1, sfc1]).flatten()\n",
    "\n",
    "(mfc2, sfc2) = cv2.meanStdDev(facecol2arr)\n",
    "statfc2 = np.concatenate([mfc2, sfc2]).flatten()\n",
    "\n",
    "(mfc3, sfc3) = cv2.meanStdDev(facecol3arr)\n",
    "statfc3 = np.concatenate([mfc3, sfc3]).flatten()\n",
    "\n",
    "(mfc4, sfc4) = cv2.meanStdDev(facecol4arr)\n",
    "statfc4 = np.concatenate([mfc4, sfc4]).flatten()\n",
    "\n",
    "(mfc5, sfc5) = cv2.meanStdDev(facecol5arr)\n",
    "statfc5 = np.concatenate([mfc5, sfc5]).flatten()\n",
    "\n",
    "(mfc6, sfc6) = cv2.meanStdDev(facecol6arr)\n",
    "statfc6 = np.concatenate([mfc6, sfc6]).flatten()\n",
    "\n",
    "(mfc7, sfc7) = cv2.meanStdDev(facecol7arr)\n",
    "statfc7 = np.concatenate([mfc7, sfc7]).flatten()\n"
   ]
  },
  {
   "cell_type": "code",
   "execution_count": 20,
   "metadata": {},
   "outputs": [],
   "source": [
    "(mfnd1, sfnd1) = cv2.meanStdDev(found1arr)\n",
    "statfnd1 = np.concatenate([mfnd1, sfnd1]).flatten()\n",
    "\n",
    "(mfnd2, sfnd2) = cv2.meanStdDev(found2arr)\n",
    "statfnd2 = np.concatenate([mfnd2, sfnd2]).flatten()\n",
    "\n",
    "(mfnd3, sfnd3) = cv2.meanStdDev(found3arr)\n",
    "statfnd3 = np.concatenate([mfnd3, sfnd3]).flatten()\n",
    "\n",
    "(mfnd4, sfnd4) = cv2.meanStdDev(found4arr)\n",
    "statfnd4 = np.concatenate([mfnd4, sfnd4]).flatten()\n",
    "\n",
    "(mfnd5, sfnd5) = cv2.meanStdDev(found5arr)\n",
    "statfnd5 = np.concatenate([mfnd5, sfnd5]).flatten()\n",
    "\n",
    "(mfnd6, sfnd6) = cv2.meanStdDev(found6arr)\n",
    "statfnd6 = np.concatenate([mfnd6, sfnd6]).flatten()\n",
    "\n",
    "(mfnd7, sfnd7) = cv2.meanStdDev(found7arr)\n",
    "statfnd7 = np.concatenate([mfnd7, sfnd7]).flatten()\n",
    "\n",
    "(mfnd8, sfnd8) = cv2.meanStdDev(found8arr)\n",
    "statfnd8 = np.concatenate([mfnd8, sfnd8]).flatten()\n",
    "\n",
    "(mfnd9, sfnd9) = cv2.meanStdDev(found9arr)\n",
    "statfnd9 = np.concatenate([mfnd9, sfnd9]).flatten()\n",
    "\n",
    "(mfnd10, sfnd10) = cv2.meanStdDev(found10arr)\n",
    "statfnd10 = np.concatenate([mfnd10, sfnd10]).flatten()"
   ]
  },
  {
   "cell_type": "code",
   "execution_count": 26,
   "metadata": {},
   "outputs": [
    {
     "name": "stdout",
     "output_type": "stream",
     "text": [
      "[248.6548     235.782      223.8172       2.76283133   4.52805433\n",
      "   6.51353853] statfc1\n",
      "[240.0956     212.1252     190.31         3.2493785    6.26341161\n",
      "   9.54812547] statfc2\n",
      "[231.2768     190.0048     171.7464       5.74715423  11.24241864\n",
      "  15.5199126 ] statfc3\n",
      "[217.5484     178.024      158.732        8.36275418  12.63871133\n",
      "  16.75059927] statfc4\n",
      "[216.242      159.4576     116.514       12.03947823  14.53614124\n",
      "  21.68408181] statfc5\n",
      "[216.7092     197.9768     182.2944       6.72147568   7.85158976\n",
      "  11.38699823] statfc6\n",
      "[106.47        76.7052      63.1536      18.76484745  15.73957728\n",
      "  13.49632569] statfc7\n",
      "[2.44071200e+02 2.14111200e+02 1.86031200e+02 3.66238392e-01\n",
      " 5.56088626e-01 1.89279053e-01] statfnd1\n",
      "[231.9664     206.0032     178.9616       0.34938666   0.25296197\n",
      "   0.23690808] statfnd2\n",
      "[226.36       194.92       172.28        10.00151988   7.86089053\n",
      "   6.72023809] statfnd3\n",
      "[214.7916     178.8748     152.846        1.65655348   1.46394158\n",
      "   1.50036129] statfnd4\n",
      "[216.8984    186.8984    152.8984      0.6053738   0.6053738   0.6053738] statfnd5\n",
      "[215.0288     179.9744     150.0816       0.26071164   0.40514768\n",
      "   0.63729227] statfnd6\n",
      "[211.1464     170.8232     144.9272       0.35576262   0.38359062\n",
      "   0.60025008] statfnd7\n",
      "[195.0816     150.5952     123.8672       0.76820664   0.65797945\n",
      "   0.48328476] statfnd8\n",
      "[171.8136     134.8936     105.908        1.22558355   0.96947359\n",
      "   0.94590486] statfnd9\n",
      "[128.8872     105.5816      92.2728       0.41288759   0.67774733\n",
      "   0.51844012] statfnd10\n"
     ]
    }
   ],
   "source": [
    "print (\"%s statfc1\" %(statfc1))\n",
    "print (\"%s statfc2\" %(statfc2))\n",
    "print (\"%s statfc3\" %(statfc3))\n",
    "print (\"%s statfc4\" %(statfc4))\n",
    "print (\"%s statfc5\" %(statfc5))\n",
    "print (\"%s statfc6\" %(statfc6))\n",
    "print (\"%s statfc7\" %(statfc7))\n",
    "\n",
    "print (\"%s statfnd1\" %(statfnd1))\n",
    "print (\"%s statfnd2\" %(statfnd2))\n",
    "print (\"%s statfnd3\" %(statfnd3))\n",
    "print (\"%s statfnd4\" %(statfnd4))\n",
    "print (\"%s statfnd5\" %(statfnd5))\n",
    "print (\"%s statfnd6\" %(statfnd6))\n",
    "print (\"%s statfnd7\" %(statfnd7))\n",
    "print (\"%s statfnd8\" %(statfnd8))\n",
    "print (\"%s statfnd9\" %(statfnd9))\n",
    "print (\"%s statfnd10\" %(statfnd10))"
   ]
  },
  {
   "cell_type": "code",
   "execution_count": 1,
   "metadata": {},
   "outputs": [
    {
     "ename": "IndentationError",
     "evalue": "unindent does not match any outer indentation level (<ipython-input-1-5cecd5b0e7b7>, line 4)",
     "output_type": "error",
     "traceback": [
      "\u001b[0;36m  File \u001b[0;32m\"<ipython-input-1-5cecd5b0e7b7>\"\u001b[0;36m, line \u001b[0;32m4\u001b[0m\n\u001b[0;31m    print (\"face %s found %s similarity %s strucsim %s minsimilarity %s minsimilarityindx %s\" % (i, j, similarity, strucsim, minsimilarity, minsimilarityindex))\u001b[0m\n\u001b[0m                                                                                                                                                                ^\u001b[0m\n\u001b[0;31mIndentationError\u001b[0m\u001b[0;31m:\u001b[0m unindent does not match any outer indentation level\n"
     ]
    }
   ],
   "source": [
    "if statfc1[0]<minsimilarity:\n",
    "            minsimilarity = similarity\n",
    "            minsimilarityindex=j\n",
    "    print (\"face %s found %s similarity %s strucsim %s minsimilarity %s minsimilarityindx %s\" % (i, j, similarity, strucsim, minsimilarity, minsimilarityindex))"
   ]
  },
  {
   "cell_type": "code",
   "execution_count": 5,
   "metadata": {},
   "outputs": [
    {
     "name": "stdout",
     "output_type": "stream",
     "text": [
      " 96  83 102 112 122 127 138 122  95 103 120 119 112 102 127 153 119 138 145 134 143 142 147 133 142 118 140 128 106  91  71 101 112 105 107 102 103  91 106 111 104  87  82  83  74  81  51  72  80  84\n",
      "111 115 134 130 133 117 124 104  86  90  95  87  84  94 121 139 142 146 140 138 137 124 114 142 139 116 128 149 124 121 125 124 123 115 100 103  88  90  81  91 100 111 108  97  92  88  94  95  99 100\n",
      "128 125 119 137 139 112 104  99  88  83  81  89  83  81 101 140 137 146 136 136 119  87 130 116 117 128 103 121 130 129 121 131 129 125 105 113  91  97  78  72  86  82  91 106  98  87 102  87  68  67\n",
      "133 135 122 106 108  78  89  81  67  85  79  78  76  79  82 107 137 139 137 112 109 103 133  84 118 132 114 109 120 119  94  95  96  74 105 106  93  93  66  75  75  87  83  87  82  79  66  73  84  98\n",
      "119 123  98  86  75  79  75  56  72  66  55  70  80  85  72  74  95 105 105  95  80  98 129  98 128 118 115  96 102 101  81  57  64  75 100 109 105  77  58  35  41  58  64  70  78  82  66  75  78  79\n",
      "128 117 107  77  75  76  82  65  45  52  87 126 120 100  73  53  78  72  80  69  66  95 120 117 126 121 104  65  61  52  66  69  43  78  96 110 111  96  78  68  13  11  24  33  48  58  89  80  35  50\n",
      "113 103 106 105 109 126 104  95 116 114 116 106 107 117 105  67  62  88  71  63  69  64 100 108 111 104  86  71  76  58  55  63  98  93  66 103 114  97  81  62  12  30  28  12  11  11  45  29  85  94\n",
      "134 103 117 124 115  96  77 112 130  95  75  72  86  82  96 112 112 113  96  95  67  70  66  70  70  82  65  60  76  61  53 103 118 108 110 114 101  99  71  37  32  28  24  34  28  41  77  69 100 104\n",
      "140 101 122 119 116 103  66  91  91  64  87  89  83  79  80 103  96  78  86 108  88  59  60  58  51  47  38  54  56  47  57  76  97  74 101 111 111 101  74  69  26  24  28  22  10  82 107  92  83 103\n",
      "129 114 116  94 124 115  48  83 101  94  82  88  78  83  99  80  79  94  76  90 102  75  80  72  88  88  80  69  70  91  89  84  83  51  85 113 105  86  97  73   7  27  14  45  57  72  97  98  93 103\n",
      "127 109 108 108 111  72  92  89  81  73  70  85  67  69  74  65  74  97  81  86 100 108  98  94 108  86  88 120  96 102  84  83  90  84 104 113 110  81  76  24  27  26  12  93 105  77 108  98 110 106\n",
      " 94 105  92 100  72  76 107  74  84  87  84  92  96  87  79  84  58  79  84  77 109  65  76 111  86  45  65  98  88  60  75  67  68  84 115 113  96  68  56  12  25  23  14  91 110 106 108 112 100 101\n",
      "118  93 143 127  85  93  57  67 100  58 109 107  93  82  69  85  62  58  92  84 105  76  77 108  42  86  93  60  84  79  66  72  84  74  88 104  88  89  74  16  28  18  86  70 100 104 104  96  89  98\n",
      "102 114 149 124 134 121 109  90  83  92 121 106 114 105 114 117 125 122 117 131 112 123 126  85  70  90  53  67  63  63  86  78  68  75  68  93  88  65  42  28   7  47 110 110 110 106 110 105 107 100\n",
      " 94 119 133  97  80 112 132 115 130 119 123 110 117 108 102  90  93  90  95  93 104 116 120 119 130 104  92  74  83  89  86  68  66  80  73  87  96  50   8  27  18  15  94 110 102 117 107 105  97  79\n",
      "119 142  88  18  11  30  49  59  54  54  54  69  72  57  45  14  12  11  15   9  21  39  51  82 106 129 128 113 117  93  87  83  71  71  90  69  77  91  53  14  19  13  32  56  89 110 102  93  90  79\n",
      "134 111  13  34  36  22  21  16  23  44  91  92  97  97  84  49  54  49  59  49  35  23  15   9  29  71 122 129 131 119 106 101  68  62  61  72  54  92  80  15  25  23  17  36  67  95 108  95  91 102\n",
      "122  54  39  47  50  65  56  63  63  84  94 103 114  85  97  77  71  69  86  93  83  60  24  31  30  16  60 120 111 118 111 114 110  58  57  73  69  93  66   9  27  18  28  34  59 115 107  99 106 115\n",
      " 96  14  78  93  86  90  82  83  75  88 101  98 104  82  92  91  92  93  82  81  90  90  22  14  17  39  15 107 108 106 115 108 106 117 101  75  67  91  98  73   9  30   9  95 116 116 110  95  78 109\n",
      " 44  55  95  97  84  70 104  99  91  81  87  64  62  78  75  70  55  71  94 110  82  89  51  37  71  90  89  90 114  96 108  94 117  87 110 109  83  97  83 103  51  19  13 100 124 119 107  88  63 102\n",
      " 48  80 102 100 118 117  85  88  69  73  68  65  56  72  67  51  59  63  57  90  95  88  59  80  78 102 127 117 108  85 115  54 101 112  67 110 110  86  54  90  79  37  14  63 127 117 111  84  85  99\n",
      " 49  56  95  82 112  76  97  98  79  73  50  53  50  62  66  69  70  69  54  72  84  73  65  89  83  85  90 113  83  89  97  96  86 120 116  85 107 104 104  89  83  87  94 109 104 106 104  91  92  95\n",
      " 55  62  91  94  67  91 122 129 125  88  68  57  62  73  70  70  75  85  83  69  76  63  68  95  82 119 106  79  86 115 101 118  90  99 113 100  72 112  92  61  78 114  97  87  79 110  83  87  95  98\n",
      " 72  78  86  94  80  90 100  84  95  70  80  63  58  59  69  52  51  20  56  71  76  65  85  92  77 121 115  96 104 112  85 103  89  93 104  96  62  95 109  91 105  92  82  65  87 104  68  96  73  59\n",
      " 74  77 107  92  83  77  85  77  76  97  86  61  64  69  61  13  78  71  50  58  75  67  82  89  98 117 109 112 114  82  83  97  67  95 107 114  95  79 122  98  85  77  45  70  83  62  81  88  37  67\n",
      " 84  92 102  94  87  74  89  88  84  97 118  88  66  68  58  20  66  99  65  70  76  52  58  94  91  99 108 116  97  67  71  90  73  88 105  91  72 103 102  73  74  59  78  91  68  44  91  94 101 111\n",
      " 93  94 101  93  94  94  79  90  99 111 115  89  51  72  32  15  49  68  61  69  50  14  74  96  63 100  80  95  79  99  99  85  61  90 100  92  91 107  88  78  90 107 109  72  42  42 101 116 116 108\n",
      " 86 106  97  92  89  83  75  96  95 110  85  63  77  65  16  19  15  24  47  27  30  47  93  89  85 115  83 106  88  97 118 100  87 107 107 112  88 101  92  74  98 111  86  74  71  82 100 110  92  80\n",
      " 73  93  97 118 123 100  66  73 102  80  56  76  61  18  28  19  23  18  14  54  78  78  90  90  87 103 104  89 107  82  91  85 118  94  81  84  71 114  89  66  76  76  69  82 105 100  70 113  95  90\n",
      " 68  75 100 126 124 100  66  91  81  75  71  48  15  25  29  37  15  41  68  80  69  63  72  91  86  70 103  78 111 111  98 112 112  76  90 103 107  83  54  57  78  69  74 102  88  57  82  97 112 113\n",
      " 93  87  92 125 131 108  97 106 109  72  12  19  31  19  30   9  52  83  75  48  40  29  31  46  79  71 112  98  81 108  92  71  76  95 113  81  64  43  59  48  56  82  99  76  81  97  73  54 103 113\n",
      " 97  83 100 117 119 106  93  96 117  97  18  24  28  26  26  64  89  69  43  31  25  43  18  62 106 106  97 109 106  90  90  98 105 117  71  61  54  56  45  65  93 114  80  93 105  75  14   6  89 107\n",
      " 96  88 102 116 113 122  89  85 103 110  91  25  26  17  41  97  60  46  17  32  26  27  37 103  96  74  50  62 103  90 108 102 106  69  60  68  53  52  71 112 106  78  76 103  66   6  31  55  87  77\n",
      "103  96 101 117 112 113  68  75  99  98 102  75  11  32  82  72  46  31  33  36  11  64 106  89  69  59  48  64  81  47  67  65 102  85  63  66  50  79 113  88  62  72  98  61  15  57  83  92  85  92\n",
      " 80 111 121 101 124 114  63  68 113  96  98  72  44  82  72  49  35  36  31  40  27 101  96  57  53  43  48  62  89  68  74  85  75  53  45  49  92 118  93  69  95  95  57  12  42  79  96  83  86  76\n",
      " 98 109 106 114 125 103  42  68  90 105 105  65  89  67  61  43  23  29  30  46 111  96  68  58  76  78  65  54  68  86 113  75  47  50  52  88 111  70  91 102  81  45  16  13  74 101 115 101  86  71\n",
      "103 103 128 110 100  87  86  86 100 111  76  74  61  55  40  21  25  31  14  81 102  70  57  98 102  95  99  67  59  72  70  48  48  78 106  98  60  82 101  75  30  13  13  54  80  83  83  75  88  89\n",
      " 97  90  94  91  81  94 102  86 117 109 106  95  94  70  12  23  21  23  72 103  83  54  66 115  72  69  98 121 101  58  48  43  80 102 103  68  93  90  72  15  20  28  50  86 124 111  56  55  81  98\n",
      " 99 102 102  83  89  80  94  74  98 102  98  96 111  94  23  29  12  33 104  79  63  50  67 110  99  80 106  98  64  47  51  65 108 101  73 105  98  53   9  38  18  68  88 116 134 114  92  54  63  81\n",
      " 97 107 104  91  88  74  90  71  73  71  96  96  86 101  65   7  28  80  99  72  57  50  56  83  97 118  97  50  51  45  50 106  93  75 108 103  33  17  31  18  13  78 112 142 111 109 108 102  85  72\n",
      " 90  84  88  59  62  89  69  76 101  78  45  88 102  99  98  39  52 111  88  54  61  43  53  37  51  84  60  56  55  76 103  90  72  94 132 130  91  33  24  55  48  71 102 136 109 106 118 113  99  76\n",
      "100  57  81  73  84  61  77 110 108  91  55  50  78  77  97  89  72 107  84  63  60  83  75  63  63  57  58  61  66 120 118  76 102 118 110 115 120  77  15  97  92  83  96 133 137 123 116  95  20  45\n",
      " 95  38  86  88  49  85 124  88  83  71  76  64  60  57  90 101 113 100  83  72  90  87  76 104 109  72  67  66 107 135  91  99 112 130 121  96  68 113  68  96 105 103 109  88 115 113 106  40  77 106\n",
      " 78  69  46  84  90  69 114 104  74  70  77  72  50  53  79 105 121  91  73  80  86  85  78 101  91  60  54  98 135 101 105 119  92 113 139 102  98 104  56  98 105 102 111 123 109 110 111 116 118 122\n",
      " 99  93  82  56 101  76  91 122  99  79  56  56  63  83  94 105 110  99  72  75  98  73  83 112  65  53  77 128 106  83 117  92  74 101 117 100  94  16  22  59  75 101 127 131  95 111 119 137 105 112\n",
      "104  97  87  82  94 101  81  89  85  54  67  89  78  99 117  92 112  97  73  60  95  88 131 119  63  68 118 124  78 108 108  74  48  93 101  41  12  40  31  20  34  87 141 132 114 112 124 122 107 115\n",
      "112  98  79  97  79  94  85  64  85  93  83 103 120 106  71 100 116 102  72  67  63  55  85 106  66  94 128 107  91 116  94  62  52  74  93  97  34  34  34  43  39  84 104 131 144 140 128 105 119 104\n",
      " 72  94 116  81 118 100 109  97  96 104 101 119  65  35  14  91 116  79  64  53  49  48  58  48  72 121 134  72 117 114  67  67  54  54  69 100  94  24  31  39  22  89  92 103 123 113 123 100 147 118\n",
      "107  63 111  89 104 101  80  95 101 103 106  77  39  28  33 106 117  89  64  69 115  98 100  87  95 138  93  94 122 102  51  64  45  51  45  71  94  86  36  13  13  54  90  84  91 107 122  93 121 138\n",
      "124  64  96 107  84 106  81  55  78  78  88  92  85  70  56 126 121  81  84 133 113 117 126  79 118 134  83 108 121  82  51  65  49  62  62  64  67  97  90  67  70 104  87  37  61  97 100  58  78  94\n",
      "()\n"
     ]
    },
    {
     "ename": "TypeError",
     "evalue": "'module' object is not iterable",
     "output_type": "error",
     "traceback": [
      "\u001b[0;31m\u001b[0m",
      "\u001b[0;31mTypeError\u001b[0mTraceback (most recent call last)",
      "\u001b[0;32m<ipython-input-5-803307da1a7f>\u001b[0m in \u001b[0;36m<module>\u001b[0;34m()\u001b[0m\n\u001b[1;32m      9\u001b[0m \u001b[0mscale\u001b[0m \u001b[0;34m=\u001b[0m \u001b[0;34m(\u001b[0m\u001b[0mlen\u001b[0m\u001b[0;34m(\u001b[0m\u001b[0mchars\u001b[0m\u001b[0;34m)\u001b[0m\u001b[0;34m-\u001b[0m\u001b[0;36m1\u001b[0m\u001b[0;34m)\u001b[0m\u001b[0;34m/\u001b[0m\u001b[0;36m255.\u001b[0m\u001b[0;34m\u001b[0m\u001b[0m\n\u001b[1;32m     10\u001b[0m \u001b[0;32mprint\u001b[0m\u001b[0;34m(\u001b[0m\u001b[0;34m)\u001b[0m\u001b[0;34m\u001b[0m\u001b[0m\n\u001b[0;32m---> 11\u001b[0;31m \u001b[0;32mfor\u001b[0m \u001b[0mrow\u001b[0m \u001b[0;32min\u001b[0m \u001b[0mdata\u001b[0m\u001b[0;34m:\u001b[0m\u001b[0;34m\u001b[0m\u001b[0m\n\u001b[0m\u001b[1;32m     12\u001b[0m     \u001b[0;32mprint\u001b[0m\u001b[0;34m(\u001b[0m\u001b[0;34m' '\u001b[0m\u001b[0;34m.\u001b[0m\u001b[0mjoin\u001b[0m\u001b[0;34m(\u001b[0m\u001b[0mchars\u001b[0m\u001b[0;34m[\u001b[0m\u001b[0mint\u001b[0m\u001b[0;34m(\u001b[0m\u001b[0mvalue\u001b[0m\u001b[0;34m*\u001b[0m\u001b[0mscale\u001b[0m\u001b[0;34m)\u001b[0m\u001b[0;34m]\u001b[0m \u001b[0;32mfor\u001b[0m \u001b[0mvalue\u001b[0m \u001b[0;32min\u001b[0m \u001b[0mrow\u001b[0m\u001b[0;34m)\u001b[0m\u001b[0;34m)\u001b[0m\u001b[0;34m\u001b[0m\u001b[0m\n",
      "\u001b[0;31mTypeError\u001b[0m: 'module' object is not iterable"
     ]
    }
   ],
   "source": [
    "# individually using data[row][col].\n",
    "\n",
    "# For example:\n",
    "for row in pattern1traingray:\n",
    "    print(' '.join('{:3}'.format(value) for value in row))\n",
    "\n",
    "# Here's another more compact representation.\n",
    "chars = '@%#*+=-:. '  # Change as desired.\n",
    "scale = (len(chars)-1)/255.\n",
    "print()\n",
    "for row in data:\n",
    "    print(' '.join(chars[int(value*scale)] for value in row))"
   ]
  },
  {
   "cell_type": "code",
   "execution_count": 27,
   "metadata": {},
   "outputs": [
    {
     "data": {
      "text/plain": [
       "<matplotlib.image.AxesImage at 0x1c36d36b90>"
      ]
     },
     "execution_count": 27,
     "metadata": {},
     "output_type": "execute_result"
    },
    {
     "data": {
      "image/png": "[encoded data removed]",
      "text/plain": [
       "<Figure size 432x288 with 1 Axes>"
      ]
     },
     "metadata": {
      "needs_background": "light"
     },
     "output_type": "display_data"
    }
   ],
   "source": [
    "plt.imshow(pattern1train_lbp, cmap = 'gray')"
   ]
  },
  {
   "cell_type": "code",
   "execution_count": 11,
   "metadata": {},
   "outputs": [
    {
     "data": {
      "text/plain": [
       "<matplotlib.image.AxesImage at 0x1c372b7d10>"
      ]
     },
     "execution_count": 11,
     "metadata": {},
     "output_type": "execute_result"
    },
    {
     "data": {
      "image/png": "[encoded data removed]",
      "text/plain": [
       "<Figure size 432x288 with 1 Axes>"
      ]
     },
     "metadata": {
      "needs_background": "light"
     },
     "output_type": "display_data"
    }
   ],
   "source": [
    "plt.imshow(pattern1traingray, cmap = 'gray')"
   ]
  },
  {
   "cell_type": "code",
   "execution_count": 13,
   "metadata": {},
   "outputs": [
    {
     "data": {
      "text/plain": [
       "<matplotlib.image.AxesImage at 0x1c37577390>"
      ]
     },
     "execution_count": 13,
     "metadata": {},
     "output_type": "execute_result"
    },
    {
     "data": {
      "image/png": "[encoded data removed]",
      "text/plain": [
       "<Figure size 432x288 with 1 Axes>"
      ]
     },
     "metadata": {
      "needs_background": "light"
     },
     "output_type": "display_data"
    }
   ],
   "source": [
    "plt.imshow(pattern1trainimg)"
   ]
  },
  {
   "cell_type": "code",
   "execution_count": null,
   "metadata": {},
   "outputs": [],
   "source": []
  }
 ],
 "metadata": {
  "kernelspec": {
   "display_name": "Python 2",
   "language": "python",
   "name": "python2"
  },
  "language_info": {
   "codemirror_mode": {
    "name": "ipython",
    "version": 2
   },
   "file_extension": ".py",
   "mimetype": "text/x-python",
   "name": "python",
   "nbconvert_exporter": "python",
   "pygments_lexer": "ipython2",
   "version": "2.7.15"
  }
 },
 "nbformat": 4,
 "nbformat_minor": 2
}
